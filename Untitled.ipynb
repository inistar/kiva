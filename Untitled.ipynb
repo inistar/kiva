{
 "cells": [
  {
   "cell_type": "code",
   "execution_count": 1,
   "metadata": {},
   "outputs": [],
   "source": [
    "import numpy as np\n",
    "import pandas as pd\n",
    "import matplotlib.pyplot as plt\n",
    "import seaborn as sns\n",
    "import scipy.stats as sts\n",
    "%matplotlib inline"
   ]
  },
  {
   "cell_type": "code",
   "execution_count": 2,
   "metadata": {},
   "outputs": [],
   "source": [
    "df = pd.read_csv('loans.csv', parse_dates=['POSTED_TIME', 'PLANNED_EXPIRATION_TIME', 'DISBURSE_TIME',\n",
    "       'RAISED_TIME'])"
   ]
  },
  {
   "cell_type": "code",
   "execution_count": 46,
   "metadata": {},
   "outputs": [
    {
     "data": {
      "text/plain": [
       "Index(['LOAN_ID', 'LOAN_NAME', 'ORIGINAL_LANGUAGE', 'FUNDED_AMOUNT',\n",
       "       'LOAN_AMOUNT', 'STATUS', 'ACTIVITY_NAME', 'SECTOR_NAME', 'LOAN_USE',\n",
       "       'COUNTRY_CODE', 'COUNTRY_NAME', 'TOWN_NAME', 'CURRENCY_POLICY',\n",
       "       'CURRENCY_EXCHANGE_COVERAGE_RATE', 'CURRENCY', 'PARTNER_ID',\n",
       "       'POSTED_TIME', 'PLANNED_EXPIRATION_TIME', 'DISBURSE_TIME',\n",
       "       'RAISED_TIME', 'LENDER_TERM', 'NUM_LENDERS_TOTAL', 'BORROWER_NAMES',\n",
       "       'BORROWER_GENDERS', 'REPAYMENT_INTERVAL', 'DISTRIBUTION_MODEL'],\n",
       "      dtype='object')"
      ]
     },
     "execution_count": 46,
     "metadata": {},
     "output_type": "execute_result"
    }
   ],
   "source": [
    "df.columns"
   ]
  },
  {
   "cell_type": "code",
   "execution_count": 36,
   "metadata": {},
   "outputs": [
    {
     "data": {
      "text/html": [
       "<div>\n",
       "<style scoped>\n",
       "    .dataframe tbody tr th:only-of-type {\n",
       "        vertical-align: middle;\n",
       "    }\n",
       "\n",
       "    .dataframe tbody tr th {\n",
       "        vertical-align: top;\n",
       "    }\n",
       "\n",
       "    .dataframe thead th {\n",
       "        text-align: right;\n",
       "    }\n",
       "</style>\n",
       "<table border=\"1\" class=\"dataframe\">\n",
       "  <thead>\n",
       "    <tr style=\"text-align: right;\">\n",
       "      <th></th>\n",
       "      <th>LOAN_ID</th>\n",
       "      <th>LOAN_NAME</th>\n",
       "      <th>ORIGINAL_LANGUAGE</th>\n",
       "      <th>FUNDED_AMOUNT</th>\n",
       "      <th>LOAN_AMOUNT</th>\n",
       "      <th>STATUS</th>\n",
       "      <th>ACTIVITY_NAME</th>\n",
       "      <th>SECTOR_NAME</th>\n",
       "      <th>LOAN_USE</th>\n",
       "      <th>COUNTRY_CODE</th>\n",
       "      <th>...</th>\n",
       "      <th>POSTED_TIME</th>\n",
       "      <th>PLANNED_EXPIRATION_TIME</th>\n",
       "      <th>DISBURSE_TIME</th>\n",
       "      <th>RAISED_TIME</th>\n",
       "      <th>LENDER_TERM</th>\n",
       "      <th>NUM_LENDERS_TOTAL</th>\n",
       "      <th>BORROWER_NAMES</th>\n",
       "      <th>BORROWER_GENDERS</th>\n",
       "      <th>REPAYMENT_INTERVAL</th>\n",
       "      <th>DISTRIBUTION_MODEL</th>\n",
       "    </tr>\n",
       "  </thead>\n",
       "  <tbody>\n",
       "    <tr>\n",
       "      <th>104</th>\n",
       "      <td>962668</td>\n",
       "      <td>Sabitri's Group</td>\n",
       "      <td>English</td>\n",
       "      <td>575.0</td>\n",
       "      <td>575.0</td>\n",
       "      <td>funded</td>\n",
       "      <td>Personal Housing Expenses</td>\n",
       "      <td>Housing</td>\n",
       "      <td>to build a hygienic toilet and incorporate wat...</td>\n",
       "      <td>IN</td>\n",
       "      <td>...</td>\n",
       "      <td>2015-10-14 06:38:22</td>\n",
       "      <td>2015-11-14 19:40:06</td>\n",
       "      <td>2015-10-06 07:00:00</td>\n",
       "      <td>2015-10-26 04:29:31</td>\n",
       "      <td>43.0</td>\n",
       "      <td>23</td>\n",
       "      <td>Sabitri, Saraswati, Sanjulata</td>\n",
       "      <td>female, female, female</td>\n",
       "      <td>bullet</td>\n",
       "      <td>field_partner</td>\n",
       "    </tr>\n",
       "    <tr>\n",
       "      <th>233</th>\n",
       "      <td>1199332</td>\n",
       "      <td>Goga</td>\n",
       "      <td>English</td>\n",
       "      <td>450.0</td>\n",
       "      <td>450.0</td>\n",
       "      <td>funded</td>\n",
       "      <td>Patchwork</td>\n",
       "      <td>Arts</td>\n",
       "      <td>to expand her handicraft business of Rajai (qu...</td>\n",
       "      <td>IN</td>\n",
       "      <td>...</td>\n",
       "      <td>2016-12-06 11:35:37</td>\n",
       "      <td>2017-01-11 01:40:03</td>\n",
       "      <td>2016-12-06 08:00:00</td>\n",
       "      <td>2016-12-12 06:35:07</td>\n",
       "      <td>14.0</td>\n",
       "      <td>18</td>\n",
       "      <td>Goga</td>\n",
       "      <td>female</td>\n",
       "      <td>monthly</td>\n",
       "      <td>field_partner</td>\n",
       "    </tr>\n",
       "    <tr>\n",
       "      <th>234</th>\n",
       "      <td>1199739</td>\n",
       "      <td>Rekha</td>\n",
       "      <td>English</td>\n",
       "      <td>450.0</td>\n",
       "      <td>450.0</td>\n",
       "      <td>funded</td>\n",
       "      <td>Embroidery</td>\n",
       "      <td>Arts</td>\n",
       "      <td>to buy the necessary raw materials for expandi...</td>\n",
       "      <td>IN</td>\n",
       "      <td>...</td>\n",
       "      <td>2016-12-07 05:22:50</td>\n",
       "      <td>2017-01-13 06:00:05</td>\n",
       "      <td>2016-12-06 08:00:00</td>\n",
       "      <td>2016-12-18 01:22:57</td>\n",
       "      <td>14.0</td>\n",
       "      <td>15</td>\n",
       "      <td>Rekha</td>\n",
       "      <td>female</td>\n",
       "      <td>monthly</td>\n",
       "      <td>field_partner</td>\n",
       "    </tr>\n",
       "    <tr>\n",
       "      <th>240</th>\n",
       "      <td>659876</td>\n",
       "      <td>Ratna</td>\n",
       "      <td>English</td>\n",
       "      <td>250.0</td>\n",
       "      <td>250.0</td>\n",
       "      <td>funded</td>\n",
       "      <td>Tailoring</td>\n",
       "      <td>Services</td>\n",
       "      <td>To purchase a sewing machine to start her new ...</td>\n",
       "      <td>IN</td>\n",
       "      <td>...</td>\n",
       "      <td>2014-01-21 10:02:39</td>\n",
       "      <td>2014-03-03 08:00:19</td>\n",
       "      <td>2013-12-30 08:00:00</td>\n",
       "      <td>2014-02-01 19:59:50</td>\n",
       "      <td>43.0</td>\n",
       "      <td>10</td>\n",
       "      <td>Ratna</td>\n",
       "      <td>female</td>\n",
       "      <td>bullet</td>\n",
       "      <td>field_partner</td>\n",
       "    </tr>\n",
       "    <tr>\n",
       "      <th>310</th>\n",
       "      <td>1198276</td>\n",
       "      <td>R Bakkiam</td>\n",
       "      <td>English</td>\n",
       "      <td>300.0</td>\n",
       "      <td>300.0</td>\n",
       "      <td>funded</td>\n",
       "      <td>Personal Housing Expenses</td>\n",
       "      <td>Housing</td>\n",
       "      <td>to access basic sanitation by building a toile...</td>\n",
       "      <td>IN</td>\n",
       "      <td>...</td>\n",
       "      <td>2016-12-05 06:18:02</td>\n",
       "      <td>2017-01-09 16:00:06</td>\n",
       "      <td>2016-11-03 07:00:00</td>\n",
       "      <td>2016-12-11 13:22:30</td>\n",
       "      <td>19.0</td>\n",
       "      <td>6</td>\n",
       "      <td>R Bakkiam</td>\n",
       "      <td>female</td>\n",
       "      <td>monthly</td>\n",
       "      <td>field_partner</td>\n",
       "    </tr>\n",
       "  </tbody>\n",
       "</table>\n",
       "<p>5 rows × 26 columns</p>\n",
       "</div>"
      ],
      "text/plain": [
       "     LOAN_ID        LOAN_NAME ORIGINAL_LANGUAGE  FUNDED_AMOUNT  LOAN_AMOUNT  \\\n",
       "104   962668  Sabitri's Group           English          575.0        575.0   \n",
       "233  1199332             Goga           English          450.0        450.0   \n",
       "234  1199739            Rekha           English          450.0        450.0   \n",
       "240   659876            Ratna           English          250.0        250.0   \n",
       "310  1198276        R Bakkiam           English          300.0        300.0   \n",
       "\n",
       "     STATUS              ACTIVITY_NAME SECTOR_NAME  \\\n",
       "104  funded  Personal Housing Expenses     Housing   \n",
       "233  funded                  Patchwork        Arts   \n",
       "234  funded                 Embroidery        Arts   \n",
       "240  funded                  Tailoring    Services   \n",
       "310  funded  Personal Housing Expenses     Housing   \n",
       "\n",
       "                                              LOAN_USE COUNTRY_CODE  \\\n",
       "104  to build a hygienic toilet and incorporate wat...           IN   \n",
       "233  to expand her handicraft business of Rajai (qu...           IN   \n",
       "234  to buy the necessary raw materials for expandi...           IN   \n",
       "240  To purchase a sewing machine to start her new ...           IN   \n",
       "310  to access basic sanitation by building a toile...           IN   \n",
       "\n",
       "           ...                 POSTED_TIME PLANNED_EXPIRATION_TIME  \\\n",
       "104        ...         2015-10-14 06:38:22     2015-11-14 19:40:06   \n",
       "233        ...         2016-12-06 11:35:37     2017-01-11 01:40:03   \n",
       "234        ...         2016-12-07 05:22:50     2017-01-13 06:00:05   \n",
       "240        ...         2014-01-21 10:02:39     2014-03-03 08:00:19   \n",
       "310        ...         2016-12-05 06:18:02     2017-01-09 16:00:06   \n",
       "\n",
       "          DISBURSE_TIME         RAISED_TIME LENDER_TERM  NUM_LENDERS_TOTAL  \\\n",
       "104 2015-10-06 07:00:00 2015-10-26 04:29:31        43.0                 23   \n",
       "233 2016-12-06 08:00:00 2016-12-12 06:35:07        14.0                 18   \n",
       "234 2016-12-06 08:00:00 2016-12-18 01:22:57        14.0                 15   \n",
       "240 2013-12-30 08:00:00 2014-02-01 19:59:50        43.0                 10   \n",
       "310 2016-11-03 07:00:00 2016-12-11 13:22:30        19.0                  6   \n",
       "\n",
       "                    BORROWER_NAMES        BORROWER_GENDERS REPAYMENT_INTERVAL  \\\n",
       "104  Sabitri, Saraswati, Sanjulata  female, female, female             bullet   \n",
       "233                           Goga                  female            monthly   \n",
       "234                          Rekha                  female            monthly   \n",
       "240                          Ratna                  female             bullet   \n",
       "310                      R Bakkiam                  female            monthly   \n",
       "\n",
       "    DISTRIBUTION_MODEL  \n",
       "104      field_partner  \n",
       "233      field_partner  \n",
       "234      field_partner  \n",
       "240      field_partner  \n",
       "310      field_partner  \n",
       "\n",
       "[5 rows x 26 columns]"
      ]
     },
     "execution_count": 36,
     "metadata": {},
     "output_type": "execute_result"
    }
   ],
   "source": [
    "df = df[df['COUNTRY_NAME'] == 'India']\n",
    "df = df.drop(['DESCRIPTION', 'DESCRIPTION_TRANSLATED','IMAGE_ID', 'VIDEO_ID', 'NUM_JOURNAL_ENTRIES', 'TAGS', 'NUM_BULK_ENTRIES', 'BORROWER_PICTURED'], axis=1)\n",
    "df.head()"
   ]
  },
  {
   "cell_type": "code",
   "execution_count": 37,
   "metadata": {},
   "outputs": [
    {
     "data": {
      "image/png": "[encoded data removed]",
      "text/plain": [
       "<matplotlib.figure.Figure at 0x7f39f6dd6c18>"
      ]
     },
     "metadata": {},
     "output_type": "display_data"
    }
   ],
   "source": [
    "df['ORIGINAL_LANGUAGE'].hist()\n",
    "plt.show()"
   ]
  },
  {
   "cell_type": "code",
   "execution_count": 38,
   "metadata": {},
   "outputs": [
    {
     "data": {
      "text/plain": [
       "LOAN_ID                            15104\n",
       "LOAN_NAME                          15053\n",
       "ORIGINAL_LANGUAGE                  15053\n",
       "FUNDED_AMOUNT                      15104\n",
       "LOAN_AMOUNT                        15104\n",
       "STATUS                             15104\n",
       "ACTIVITY_NAME                      15104\n",
       "SECTOR_NAME                        15104\n",
       "LOAN_USE                           15053\n",
       "COUNTRY_CODE                       15104\n",
       "COUNTRY_NAME                       15104\n",
       "TOWN_NAME                          15053\n",
       "CURRENCY_POLICY                    15104\n",
       "CURRENCY_EXCHANGE_COVERAGE_RATE    15075\n",
       "CURRENCY                           15104\n",
       "PARTNER_ID                         15104\n",
       "POSTED_TIME                        15104\n",
       "PLANNED_EXPIRATION_TIME            15104\n",
       "DISBURSE_TIME                      15104\n",
       "RAISED_TIME                        14755\n",
       "LENDER_TERM                        15104\n",
       "NUM_LENDERS_TOTAL                  15104\n",
       "BORROWER_NAMES                     15053\n",
       "BORROWER_GENDERS                   15053\n",
       "REPAYMENT_INTERVAL                 15104\n",
       "DISTRIBUTION_MODEL                 15104\n",
       "dtype: int64"
      ]
     },
     "execution_count": 38,
     "metadata": {},
     "output_type": "execute_result"
    }
   ],
   "source": [
    "df.count()"
   ]
  },
  {
   "cell_type": "code",
   "execution_count": 45,
   "metadata": {},
   "outputs": [
    {
     "data": {
      "text/plain": [
       "False    14755\n",
       "True       349\n",
       "dtype: int64"
      ]
     },
     "execution_count": 45,
     "metadata": {},
     "output_type": "execute_result"
    }
   ],
   "source": [
    "(df['FUNDED_AMOUNT'] != df['LOAN_AMOUNT']).value_counts()"
   ]
  },
  {
   "cell_type": "code",
   "execution_count": 42,
   "metadata": {},
   "outputs": [
    {
     "data": {
      "text/plain": [
       "funded         14712\n",
       "expired          280\n",
       "fundRaising       69\n",
       "refunded          43\n",
       "Name: STATUS, dtype: int64"
      ]
     },
     "execution_count": 42,
     "metadata": {},
     "output_type": "execute_result"
    }
   ],
   "source": [
    "df['STATUS'].value_counts()"
   ]
  },
  {
   "cell_type": "code",
   "execution_count": 56,
   "metadata": {},
   "outputs": [
    {
     "data": {
      "text/plain": [
       "Agriculture       4484\n",
       "Food              2767\n",
       "Housing           1513\n",
       "Services          1467\n",
       "Arts              1151\n",
       "Retail            1130\n",
       "Clothing           808\n",
       "Education          564\n",
       "Manufacturing      388\n",
       "Personal Use       318\n",
       "Transportation     250\n",
       "Construction       197\n",
       "Health              50\n",
       "Wholesale            9\n",
       "Entertainment        8\n",
       "Name: SECTOR_NAME, dtype: int64"
      ]
     },
     "execution_count": 56,
     "metadata": {},
     "output_type": "execute_result"
    }
   ],
   "source": [
    "df['SECTOR_NAME'].value_counts()"
   ]
  },
  {
   "cell_type": "code",
   "execution_count": 55,
   "metadata": {},
   "outputs": [
    {
     "data": {
      "image/png": "[encoded data removed]",
      "text/plain": [
       "<matplotlib.figure.Figure at 0x7f39f6dd4a20>"
      ]
     },
     "metadata": {},
     "output_type": "display_data"
    }
   ],
   "source": [
    "# plt.figure(figsize=(20, 5))\n",
    "# df['SECTOR_NAME'].hist()\n",
    "# plt.xticks(rotation='vertical')\n",
    "# plt.xlabel(\"Sector Name\")\n",
    "# plt.show()\n",
    "\n",
    "plt.figure(figsize=(15,4))\n",
    "sns.countplot(x='SECTOR_NAME', data=df, orient='h', order = df['SECTOR_NAME'].value_counts().index)\n",
    "plt.xticks(rotation='vertical')\n",
    "plt.ylabel('Number of loans')\n",
    "plt.xlabel('Sector Name')\n",
    "plt.title(\"Number of Loans By Sector\");"
   ]
  },
  {
   "cell_type": "code",
   "execution_count": 80,
   "metadata": {},
   "outputs": [
    {
     "data": {
      "text/plain": [
       "0.9828278322925958"
      ]
     },
     "execution_count": 80,
     "metadata": {},
     "output_type": "execute_result"
    }
   ],
   "source": [
    "ag_tot = 4484\n",
    "ag_approved = df[(df['SECTOR_NAME'] == 'Agriculture') & (df['FUNDED_AMOUNT'] == df['LOAN_AMOUNT'])]['SECTOR_NAME'].count()\n",
    "ag_approved/ag_tot"
   ]
  },
  {
   "cell_type": "code",
   "execution_count": 81,
   "metadata": {},
   "outputs": [
    {
     "data": {
      "text/plain": [
       "0.5912132024977699"
      ]
     },
     "execution_count": 81,
     "metadata": {},
     "output_type": "execute_result"
    }
   ],
   "source": [
    "ag_tot = 44842\n",
    "ag_approved = df[(df['SECTOR_NAME'] == 'Food') & (df['FUNDED_AMOUNT'] == df['LOAN_AMOUNT'])]['SECTOR_NAME'].count()\n",
    "ag_approved/ag_tot"
   ]
  },
  {
   "cell_type": "code",
   "execution_count": 79,
   "metadata": {},
   "outputs": [
    {
     "name": "stdout",
     "output_type": "stream",
     "text": [
      "{'Agriculture': 4484.0, 'Food': 0.9580773400795085, 'Housing': 0.9729015201586253, 'Services': 0.9829584185412407, 'Arts': 1.0, 'Retail': 1130.0, 'Clothing': 808.0, 'Education': 564.0, 'Manufacturing': 388.0, 'Personal Use': 318.0, 'Transportation': 250.0, 'Construction': 1.0, 'Health': 50.0, 'Wholesale': 1.0, 'Entertainment': 8.0}\n"
     ]
    }
   ],
   "source": [
    "sector_total = {}\n",
    "\n",
    "for sec, tot in df['SECTOR_NAME'].value_counts().items():\n",
    "    sector_total[sec] = tot\n",
    "    \n",
    "for sec in df['SECTOR_NAME']:\n",
    "    approved = df[(df['SECTOR_NAME'] == sec) & (df['FUNDED_AMOUNT'] == df['LOAN_AMOUNT'])]['SECTOR_NAME'].count()\n",
    "    sector_total[sec] = approved/sector_total[sec]\n",
    "print(sector_total)"
   ]
  },
  {
   "cell_type": "code",
   "execution_count": 119,
   "metadata": {},
   "outputs": [
    {
     "name": "stdout",
     "output_type": "stream",
     "text": [
      "Agriculture\n",
      "Food\n",
      "Housing\n",
      "Services\n",
      "Arts\n",
      "Retail\n",
      "Clothing\n",
      "Education\n",
      "Manufacturing\n",
      "Personal Use\n",
      "Transportation\n",
      "Construction\n",
      "Health\n",
      "Wholesale\n",
      "Entertainment\n"
     ]
    }
   ],
   "source": [
    "sector_total = {}\n",
    "\n",
    "\n",
    "for sec, tot in df['SECTOR_NAME'].value_counts().items():\n",
    "    \n",
    "    \n"
   ]
  },
  {
   "cell_type": "code",
   "execution_count": 100,
   "metadata": {},
   "outputs": [
    {
     "data": {
      "text/plain": [
       "{'Agriculture': 0.9828278322925958,\n",
       " 'Arts': 1.0,\n",
       " 'Clothing': 0.969059405940594,\n",
       " 'Construction': 1.0,\n",
       " 'Education': 0.99822695035461,\n",
       " 'Entertainment': 1.0,\n",
       " 'Food': 0.9580773400795085,\n",
       " 'Health': 1.0,\n",
       " 'Housing': 0.9729015201586253,\n",
       " 'Manufacturing': 0.9974226804123711,\n",
       " 'Personal Use': 1.0,\n",
       " 'Retail': 0.9451327433628318,\n",
       " 'Services': 0.9829584185412407,\n",
       " 'Transportation': 0.996,\n",
       " 'Wholesale': 1.0}"
      ]
     },
     "execution_count": 100,
     "metadata": {},
     "output_type": "execute_result"
    }
   ],
   "source": [
    "sector_total = {}\n",
    "    \n",
    "for sec, tot in df['SECTOR_NAME'].value_counts().items():\n",
    "    approved = df[(df['SECTOR_NAME'] == sec) & (df['FUNDED_AMOUNT'] == df['LOAN_AMOUNT'])]['SECTOR_NAME'].count()\n",
    "    sector_total[sec] = approved/tot\n",
    "    \n",
    "sector_total"
   ]
  },
  {
   "cell_type": "code",
   "execution_count": 108,
   "metadata": {},
   "outputs": [
    {
     "data": {
      "text/plain": [
       "female                                                                                                                                                    3508\n",
       "female, female                                                                                                                                             225\n",
       "female, female, female, female, female, female, female, female, female, female                                                                             187\n",
       "female, female, female, female, female                                                                                                                      84\n",
       "female, female, female, female, female, female, female, female, female, female, female                                                                      80\n",
       "female, female, female, female, female, female, female, female, female                                                                                      55\n",
       "female, female, female                                                                                                                                      51\n",
       "female, female, female, female, female, female, female, female, female, female, female, female                                                              48\n",
       "female, female, female, female, female, female, female, female                                                                                              48\n",
       "male                                                                                                                                                        42\n",
       "female, female, female, female, female, female, female, female, female, female, female, female, female                                                      38\n",
       "female, female, female, female                                                                                                                              24\n",
       "female, female, female, female, female, female                                                                                                              19\n",
       "female, female, female, female, female, female, female, female, female, female, female, female, female, female                                              17\n",
       "female, female, female, female, female, female, female                                                                                                      14\n",
       "female, female, female, female, female, female, female, female, female, female, female, female, female, female, female                                      11\n",
       "female, female, female, female, female, female, female, female, female, female, female, female, female, female, female, female                               7\n",
       "female, female, female, female, female, female, female, female, female, female, female, female, female, female, female, female, female, female, female       3\n",
       "female, female, female, female, female, female, female, female, female, female, female, female, female, female, female, female, female, female               2\n",
       "female, female, female, female, female, female, female, female, female, female, female, female, female, female, female, female, female                       2\n",
       "male, male, male, female, male, female, male, male, male, male                                                                                               1\n",
       "female, male, male, male, male, male, male, male, female                                                                                                     1\n",
       "male, male, male, male, male, male, male, female, male, male                                                                                                 1\n",
       "female, female, male, male, male, male, female, female, male, male, female, male, female, male, male, male, female                                           1\n",
       "female, female, female, female, female, female, male, male, female, male, male, female, male, female, female, female                                         1\n",
       "female, female, female, male, male, female, female, female, female, female                                                                                   1\n",
       "male, male, male, male, male, male, male, female, female, male, male, female, male, male, male, female                                                       1\n",
       "female, female, female, female, female, male, female, female, female, female, female, female                                                                 1\n",
       "Name: BORROWER_GENDERS, dtype: int64"
      ]
     },
     "execution_count": 108,
     "metadata": {},
     "output_type": "execute_result"
    }
   ],
   "source": [
    "df[df['SECTOR_NAME'] == 'Agriculture']['BORROWER_GENDERS'].value_counts()"
   ]
  },
  {
   "cell_type": "code",
   "execution_count": 114,
   "metadata": {},
   "outputs": [],
   "source": [
    "group = df[(df['SECTOR_NAME'] == 'Agriculture') & (df['BORROWER_GENDERS'] != 'male') & (df['BORROWER_GENDERS'] != 'female')]"
   ]
  },
  {
   "cell_type": "code",
   "execution_count": 115,
   "metadata": {},
   "outputs": [],
   "source": [
    "individual = df[(df['SECTOR_NAME'] == 'Agriculture') & (df['BORROWER_GENDERS'] == 'male') & (df['BORROWER_GENDERS'] == 'female')]"
   ]
  },
  {
   "cell_type": "code",
   "execution_count": 118,
   "metadata": {},
   "outputs": [
    {
     "data": {
      "text/plain": [
       "1873.4207708779443"
      ]
     },
     "execution_count": 118,
     "metadata": {},
     "output_type": "execute_result"
    }
   ],
   "source": [
    "mu = group['LOAN_AMOUNT'].mean()\n",
    "mu"
   ]
  },
  {
   "cell_type": "code",
   "execution_count": null,
   "metadata": {},
   "outputs": [],
   "source": [
    "Do people who apply individually have a better chance of getting a loan compared to applying in groups. \n",
    "\n",
    "df_group['time']\n",
    "df_individual['time']\n",
    "\n",
    "t_test(df_group, df_individual)\n"
   ]
  }
 ],
 "metadata": {
  "kernelspec": {
   "display_name": "Python 3",
   "language": "python",
   "name": "python3"
  },
  "language_info": {
   "codemirror_mode": {
    "name": "ipython",
    "version": 3
   },
   "file_extension": ".py",
   "mimetype": "text/x-python",
   "name": "python",
   "nbconvert_exporter": "python",
   "pygments_lexer": "ipython3",
   "version": "3.6.4"
  }
 },
 "nbformat": 4,
 "nbformat_minor": 2
}
